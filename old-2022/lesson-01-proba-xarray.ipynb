{
 "cells": [
  {
   "cell_type": "code",
   "execution_count": null,
   "metadata": {},
   "outputs": [],
   "source": [
    "import numpy as np\n",
    "import xarray as xr"
   ]
  },
  {
   "cell_type": "code",
   "execution_count": null,
   "metadata": {},
   "outputs": [],
   "source": [
    "coordsA = {'A': ['bad', 'good']}\n",
    "coordsF = {'F': ['unfit', 'fit']}\n",
    "coordsR = {'R': ['muddy', 'dry']}\n",
    "coordsT = {'T': ['poor', 'average', 'top']}\n",
    "coordsQ = {'Q': ['fail', 'qualified']}\n",
    "pF = xr.DataArray([0.7, 0.3], dims=('F'), coords=coordsF)\n",
    "pA_F = xr.DataArray([[0.95, 0.05], [0.2, 0.8]], dims=('F', 'A'), coords={**coordsA, **coordsF})\n",
    "pR = xr.DataArray([0.6, 0.4], dims=('R'), coords=coordsR)\n",
    "pT_RF = xr.DataArray([[[0.3, 0.4, 0.3], [0.7, 0.25, 0.05]], [[0.02, 0.08, 0.90], [0.2, 0.3, 0.5]]], dims=('F', 'R', 'T'), coords={**coordsT, **coordsR, **coordsF}) # times/groups are in \"reverse\" order compared to Koller\n",
    "pQ_T = xr.DataArray([[0.99, 0.01], [0.4, 0.6], [0.1, 0.9]], dims=('T', 'Q'), coords={**coordsT, **coordsQ}) # here it changes the order of the 3 rows\n",
    "\n",
    "def normalize(a):\n",
    "    return a / a.sum()\n",
    "\n",
    "# derived joint probabilities for the exercices\n",
    "pAF = pF * pA_F\n",
    "pAFT = (pAF * pR * pT_RF).sum(dim='R')\n",
    "p_all = pR*pF*pT_RF*pA_F*pQ_T"
   ]
  },
  {
   "cell_type": "code",
   "execution_count": null,
   "metadata": {},
   "outputs": [],
   "source": [
    "p_all.sum()"
   ]
  },
  {
   "cell_type": "markdown",
   "metadata": {},
   "source": [
    "# Simple 2 variable case"
   ]
  },
  {
   "cell_type": "code",
   "execution_count": null,
   "metadata": {},
   "outputs": [],
   "source": [
    "pAF # joint distribution"
   ]
  },
  {
   "cell_type": "code",
   "execution_count": null,
   "metadata": {},
   "outputs": [],
   "source": [
    "# Q1\n",
    "# proba of being fit, sum rule\n",
    "print(\"A proportion of\", pAF.sum(dim='A').sel(F='fit').values, \"is fit\")\n",
    "# but we also have all values p(A)\n",
    "pAF.sum(dim='A')"
   ]
  },
  {
   "cell_type": "code",
   "execution_count": null,
   "metadata": {},
   "outputs": [],
   "source": [
    "# Q2\n",
    "# proba of being fit, knowing we did good at the aerobic test\n",
    "# conditioning (taking just a value) and renormalizing\n",
    "print(\"Given A=good, the proba of being fit is\", normalize(pAF.sel(A='good')).sel(F='fit').values)\n",
    "# but we also have all values p(F|A=good)\n",
    "normalize(pAF.sel(A='good'))"
   ]
  },
  {
   "cell_type": "code",
   "execution_count": null,
   "metadata": {},
   "outputs": [],
   "source": [
    "# exploring\n",
    "normalize(pAF.sel(A='bad'))"
   ]
  },
  {
   "cell_type": "code",
   "execution_count": null,
   "metadata": {},
   "outputs": [],
   "source": [
    "# more exploration\n",
    "pAF.sum(dim='F')"
   ]
  },
  {
   "cell_type": "markdown",
   "metadata": {},
   "source": [
    "# Three variables"
   ]
  },
  {
   "cell_type": "code",
   "execution_count": null,
   "metadata": {},
   "outputs": [],
   "source": [
    "print(\"shape:\", pAFT.shape)\n",
    "print(\"total size:\", pAFT.size)\n",
    "print(pAFT.sum().values)\n",
    "\n",
    "pAFT"
   ]
  },
  {
   "cell_type": "code",
   "execution_count": null,
   "metadata": {},
   "outputs": [],
   "source": [
    "# Q3\n",
    "# knowing there was a good test result A=good,\n",
    "# what is the probability of getting a time in the top, T=top?\n",
    "print(\"Given A=good, prob(T=top) =\", normalize(pAFT.sel(A='good').sum(dim='F')).sel(T='top').values)\n",
    "# the distribution (on T)\n",
    "normalize(pAFT.sel(A='good').sum(dim='F'))"
   ]
  },
  {
   "cell_type": "code",
   "execution_count": null,
   "metadata": {},
   "outputs": [],
   "source": [
    "# let's check what we get with a bad test result\n",
    "normalize(pAFT.sel(A='bad').sum(dim='F'))"
   ]
  },
  {
   "cell_type": "code",
   "execution_count": null,
   "metadata": {},
   "outputs": [],
   "source": [
    "# can we be fit but fail tests and races\n",
    "normalize(pAFT.sel(A='bad', T='poor')) # ... not so much"
   ]
  },
  {
   "cell_type": "code",
   "execution_count": null,
   "metadata": {},
   "outputs": [],
   "source": [
    "# if we know we're fit, what is the probabily to perform at the race? \n",
    "normalize(pAFT.sel(F='fit').sum('A'))"
   ]
  },
  {
   "cell_type": "code",
   "execution_count": null,
   "metadata": {},
   "outputs": [],
   "source": [
    "# same, but knowing a test results\n",
    "normalize(pAFT.sel(A='bad', F='fit'))\n",
    "# (no change, so there is a conditional independance)\n",
    "# (T seems indep of A, given F=fit)\n",
    "# (already knowing F=fit, knowing A does not bring information on T)"
   ]
  },
  {
   "cell_type": "code",
   "execution_count": null,
   "metadata": {},
   "outputs": [],
   "source": [
    "# same with F='unfit'\n",
    "normalize(pAFT.sel(A='bad', F='unfit')) / normalize(pAFT.sel(F='unfit').sum('A'))\n",
    "# ... the ratio p(T|A=bad,F=unfit) / p(T|F=unfit) is 1 for all T"
   ]
  },
  {
   "cell_type": "markdown",
   "metadata": {},
   "source": [
    "# All variables"
   ]
  },
  {
   "cell_type": "code",
   "execution_count": null,
   "metadata": {},
   "outputs": [],
   "source": [
    "print(\"shape:\", p_all.shape)\n",
    "print(\"total size:\", p_all.size)\n",
    "print(p_all.sum().values)"
   ]
  },
  {
   "cell_type": "code",
   "execution_count": null,
   "metadata": {},
   "outputs": [],
   "source": [
    "p_all"
   ]
  },
  {
   "cell_type": "code",
   "execution_count": null,
   "metadata": {},
   "outputs": [],
   "source": [
    "# Q4\n",
    "# probability of getting qualified, given a good aerobic test (and nothing else)\n",
    "normalize(p_all.sel(A='good').sum(dim=('R', 'F', 'T')))"
   ]
  },
  {
   "cell_type": "code",
   "execution_count": null,
   "metadata": {},
   "outputs": [],
   "source": [
    "# it is still low, so let's check the probability with a bad test result\n",
    "normalize(p_all.sel(A='bad').sum(dim=('R', 'F', 'T')))"
   ]
  },
  {
   "cell_type": "code",
   "execution_count": null,
   "metadata": {},
   "outputs": [],
   "source": [
    "# and the \"prior\" probability with no information\n",
    "p_all.sum(dim=('A', 'R', 'F', 'T'))"
   ]
  },
  {
   "cell_type": "code",
   "execution_count": null,
   "metadata": {},
   "outputs": [],
   "source": []
  },
  {
   "cell_type": "code",
   "execution_count": null,
   "metadata": {},
   "outputs": [],
   "source": []
  }
 ],
 "metadata": {
  "jupytext": {
   "formats": "ipynb,auto:percent"
  },
  "kernelspec": {
   "display_name": "Python 3 (ipykernel)",
   "language": "python",
   "name": "python3"
  },
  "language_info": {
   "codemirror_mode": {
    "name": "ipython",
    "version": 3
   },
   "file_extension": ".py",
   "mimetype": "text/x-python",
   "name": "python",
   "nbconvert_exporter": "python",
   "pygments_lexer": "ipython3",
   "version": "3.10.6"
  }
 },
 "nbformat": 4,
 "nbformat_minor": 4
}
