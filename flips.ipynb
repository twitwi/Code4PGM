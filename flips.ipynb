{
 "cells": [
  {
   "cell_type": "code",
   "execution_count": null,
   "id": "b1b7ce26-aa33-46c3-8666-678fea7a0c12",
   "metadata": {},
   "outputs": [],
   "source": [
    "import numpy as np\n",
    "import matplotlib.pyplot as plt"
   ]
  },
  {
   "cell_type": "code",
   "execution_count": null,
   "id": "3f984c78-662c-4a29-b2ea-2d11bbc8b65b",
   "metadata": {},
   "outputs": [],
   "source": [
    "space = np.linspace(0, 1, 1001)\n",
    "#pθ = np.ones((1001,)) / 1001\n",
    "pθ = 1-np.abs(0.5-space)\n",
    "pθ[480:520] = 50\n",
    "pθ /= np.sum(pθ)\n",
    "\n",
    "def prior(θ):\n",
    "    # θ is in [0,1]\n",
    "    # the array is 1001 values from 0 to 1\n",
    "    index = int(θ*(space.size-1))\n",
    "    return pθ[index]\n"
   ]
  },
  {
   "cell_type": "code",
   "execution_count": null,
   "id": "a877b33a-c100-40e6-8be7-782992e03427",
   "metadata": {},
   "outputs": [],
   "source": [
    "plt.plot(space, pθ*1000) \n",
    "plt.ylim(0, None)"
   ]
  },
  {
   "cell_type": "code",
   "execution_count": null,
   "id": "fb0d195a-67d6-4a4f-98ff-08a1768d3265",
   "metadata": {},
   "outputs": [],
   "source": [
    "# terms in the integral\n",
    "plt.plot(space, space**3 * (1-space)**0 * pθ) # for X3=T\n",
    "plt.plot(space, space**2 * (1-space)**1 * pθ) # for X3=H\n"
   ]
  },
  {
   "cell_type": "code",
   "execution_count": null,
   "id": "b14babf0-2507-4e8b-a184-4fd008304e20",
   "metadata": {},
   "outputs": [],
   "source": [
    "# same (terms in the integral) with more observations\n",
    "plt.plot(space, space**11 * (1-space)**5 * pθ) # for X3=T\n",
    "plt.plot(space, space**10 * (1-space)**6 * pθ) # for X3=H\n"
   ]
  },
  {
   "cell_type": "code",
   "execution_count": null,
   "id": "5765ab52-2d26-4a03-a619-4004ddcdf223",
   "metadata": {},
   "outputs": [],
   "source": [
    "pX3isT_X2X1 = np.sum([θ**3 * (1-θ)**0 * prior(θ) for θ in space])\n",
    "pX3isH_X2X1 = np.sum([θ**2 * (1-θ)**1 * prior(θ) for θ in space])\n",
    "total = pX3isT_X2X1 + pX3isH_X2X1\n",
    "\n",
    "pX3isH_X2X1 /= total\n",
    "pX3isT_X2X1 /= total\n",
    "\n",
    "print(pX3isT_X2X1, pX3isH_X2X1)"
   ]
  },
  {
   "cell_type": "code",
   "execution_count": null,
   "id": "06950a4c-3278-400b-9246-2f6c20b4bec8",
   "metadata": {},
   "outputs": [],
   "source": [
    "def explore(nT, nH):\n",
    "    pX3isT_X2X1 = np.sum([θ**(nT+1) * (1-θ)**(nH) * prior(θ) for θ in space])\n",
    "    pX3isH_X2X1 = np.sum([θ**(nT) * (1-θ)**(nH+1) * prior(θ) for θ in space])\n",
    "    total = pX3isT_X2X1 + pX3isH_X2X1\n",
    "    \n",
    "    pX3isH_X2X1 /= total\n",
    "    pX3isT_X2X1 /= total\n",
    "    \n",
    "    print(pX3isT_X2X1, pX3isH_X2X1)"
   ]
  },
  {
   "cell_type": "code",
   "execution_count": null,
   "id": "493eaf78-685f-4e51-bf0f-92fafbf7a863",
   "metadata": {},
   "outputs": [],
   "source": [
    "explore(2, 0)\n",
    "explore(10, 5)\n",
    "explore(100, 50)"
   ]
  },
  {
   "cell_type": "code",
   "execution_count": null,
   "id": "8790d0c1-5417-4b24-8c18-abd1a831e6c7",
   "metadata": {},
   "outputs": [],
   "source": []
  },
  {
   "cell_type": "code",
   "execution_count": null,
   "id": "8799f5b6-9f9d-471b-b886-8589e9ccde0e",
   "metadata": {},
   "outputs": [],
   "source": []
  },
  {
   "cell_type": "code",
   "execution_count": null,
   "id": "40926085-3de9-4473-89b6-d7337d07d226",
   "metadata": {},
   "outputs": [],
   "source": []
  }
 ],
 "metadata": {
  "kernelspec": {
   "display_name": "Python 3 (ipykernel)",
   "language": "python",
   "name": "python3"
  },
  "language_info": {
   "codemirror_mode": {
    "name": "ipython",
    "version": 3
   },
   "file_extension": ".py",
   "mimetype": "text/x-python",
   "name": "python",
   "nbconvert_exporter": "python",
   "pygments_lexer": "ipython3",
   "version": "3.10.12"
  }
 },
 "nbformat": 4,
 "nbformat_minor": 5
}
