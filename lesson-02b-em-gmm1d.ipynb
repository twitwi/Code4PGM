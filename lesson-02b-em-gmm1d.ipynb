{
 "cells": [
  {
   "cell_type": "code",
   "execution_count": null,
   "metadata": {},
   "outputs": [],
   "source": [
    "import numpy as np\n",
    "from matplotlib import pyplot as plt\n",
    "import scipy.stats as stats"
   ]
  },
  {
   "cell_type": "code",
   "execution_count": null,
   "metadata": {},
   "outputs": [],
   "source": [
    "gt_means = np.array([-2, 1])\n",
    "gt_pi = np.array([.3, .7])\n",
    "var = 1\n",
    "\n",
    "N = 1000\n",
    "X = np.random.normal(gt_means[1], var**0.5, N)\n",
    "X[:int(gt_pi[0]*N)] = np.random.normal(gt_means[0], var**0.5, int(gt_pi[0]*N))\n",
    "# NB: we generated with the exact proportions (a real generation would not necessarily have the exact proportions)"
   ]
  },
  {
   "cell_type": "code",
   "execution_count": null,
   "metadata": {},
   "outputs": [],
   "source": [
    "plt.hist(X, bins=100);"
   ]
  },
  {
   "cell_type": "code",
   "execution_count": null,
   "metadata": {},
   "outputs": [],
   "source": [
    "\n",
    "def plot_params(mu, w):\n",
    "    x = np.linspace(-10, 10, 1001)\n",
    "    plt.plot(x, w[0] * stats.norm.pdf(x, mu[0], var**0.5))\n",
    "    plt.plot(x, w[1] * stats.norm.pdf(x, mu[1], var**0.5))\n",
    "    plt.plot(x, w[0] * stats.norm.pdf(x, mu[0], var**0.5) + w[1] * stats.norm.pdf(x, mu[1], var**0.5), '--k')\n",
    "    plt.hist(X, density=True, bins=100, alpha=0.5)\n",
    "    plt.show()\n",
    "\n",
    "def E(X, mu, w):\n",
    "    X = X[None,:]\n",
    "    mu = mu[:, None]\n",
    "    w = np.array(w)[:, None]\n",
    "    rprime = w * stats.norm.pdf(X, mu, var**0.5)\n",
    "    return rprime / rprime.sum(axis=0)\n"
   ]
  },
  {
   "cell_type": "code",
   "execution_count": null,
   "metadata": {},
   "outputs": [],
   "source": [
    "\n",
    "mu = np.random.normal(0, 10, (2,)) # initiliaze the parameters\n",
    "w = [0.5, 0.5] # initiliaze the parameters\n",
    "plot_params(mu, w)\n",
    "r = E(X, mu, w)\n",
    "print(r)"
   ]
  },
  {
   "cell_type": "code",
   "execution_count": null,
   "metadata": {},
   "outputs": [],
   "source": [
    "print(mu)"
   ]
  },
  {
   "cell_type": "code",
   "execution_count": null,
   "metadata": {},
   "outputs": [],
   "source": [
    "def M(X, r):\n",
    "    mu = np.sum(X*r, axis=1) / np.sum(r, axis=1)\n",
    "    w = np.sum(r, axis=1) / X.size\n",
    "    return mu, w\n",
    "\n",
    "history = [(mu, w)]\n",
    "\n",
    "mu, w = M(X, r)\n",
    "plot_params(mu, w)\n",
    "history.append((mu, w))\n"
   ]
  },
  {
   "cell_type": "code",
   "execution_count": null,
   "metadata": {},
   "outputs": [],
   "source": [
    "for i in range(10):\n",
    "    r = E(X, mu, w)\n",
    "    mu, w = M(X, r)\n",
    "    plot_params(mu, w)\n",
    "    history.append((mu, w))\n"
   ]
  },
  {
   "cell_type": "code",
   "execution_count": null,
   "metadata": {},
   "outputs": [],
   "source": [
    "print(mu)"
   ]
  },
  {
   "cell_type": "code",
   "execution_count": null,
   "metadata": {},
   "outputs": [],
   "source": [
    "print(w)"
   ]
  },
  {
   "cell_type": "code",
   "execution_count": null,
   "metadata": {},
   "outputs": [],
   "source": [
    "plt.plot([h[0] for h in history], label=[\"μ0\", \"μ1\"])\n",
    "plt.plot([0, len(history)], [[gt_means[0], gt_means[1]]]*2, '--', label=[\"gt μ0\", \"gt μ1\"])\n",
    "plt.legend()\n",
    "plt.show()\n",
    "plt.plot([h[1] for h in history], label=[\"π0\", \"π1\"])\n",
    "plt.plot([0, len(history)], [[gt_pi[0], gt_pi[1]]]*2, '--', label=[\"gt π0\", \"gt π1\"])\n",
    "plt.legend()\n",
    "plt.show()\n"
   ]
  },
  {
   "cell_type": "code",
   "execution_count": null,
   "metadata": {},
   "outputs": [],
   "source": []
  }
 ],
 "metadata": {
  "jupytext": {
   "formats": "ipynb,auto:percent"
  },
  "kernelspec": {
   "display_name": "Python 3 (ipykernel)",
   "language": "python",
   "name": "python3"
  },
  "language_info": {
   "codemirror_mode": {
    "name": "ipython",
    "version": 3
   },
   "file_extension": ".py",
   "mimetype": "text/x-python",
   "name": "python",
   "nbconvert_exporter": "python",
   "pygments_lexer": "ipython3",
   "version": "3.10.12"
  }
 },
 "nbformat": 4,
 "nbformat_minor": 4
}
