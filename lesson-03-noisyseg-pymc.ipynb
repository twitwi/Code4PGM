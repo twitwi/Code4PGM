{
 "cells": [
  {
   "cell_type": "code",
   "execution_count": null,
   "id": "8b4b9519-7705-4b19-ac52-97bb7faeb214",
   "metadata": {},
   "outputs": [],
   "source": [
    "import arviz as az\n",
    "import matplotlib.pyplot as plt\n",
    "import numpy as np\n",
    "import pandas as pd\n",
    "import pymc as pm\n",
    "import xarray as xr\n",
    "\n",
    "from pymc import HalfCauchy, Model, Normal, MvNormal, Uniform, Beta, sample\n",
    "\n",
    "print(f\"Running on PyMC v{pm.__version__}\")\n",
    "\n",
    "# pip install blackjax numpyro\n",
    "# ... to make it use jax for NUTS (MCMC)\n",
    "\n",
    "import pymc.sampling.jax\n",
    "\n",
    "def backward_simplex(value):\n",
    "    value = np.concatenate([value, -np.sum(value, -1, keepdims=True)], axis=-1)\n",
    "    exp_value_max = np.exp(value - np.max(value, -1, keepdims=True))\n",
    "    return exp_value_max / np.sum(exp_value_max, -1, keepdims=True)\n"
   ]
  },
  {
   "cell_type": "code",
   "execution_count": null,
   "id": "1e04bade-902f-474b-827e-7092c74cc1f1",
   "metadata": {},
   "outputs": [],
   "source": [
    "from tools import obj_dic, show_heatmap_contours, show_heatmap\n",
    "\n",
    "SEED = 1412\n",
    "#TRAIN_K = 1412\n",
    "\n",
    "def gen_data(N, seed=SEED):\n",
    "    r = np.random.default_rng(seed)\n",
    "    a = r.normal(0, 30, (1,2))\n",
    "    b = r.normal(0, 30, (1,2))\n",
    "    u = r.uniform(0, 1, (N,1))\n",
    "    p = a + (b-a) * u + r.normal(0, 1, (N, 2))\n",
    "    return p, obj_dic(locals())\n",
    "\n",
    "data, gt = gen_data(100)\n",
    "\n",
    "plt.scatter(data[:,0], data[:,1], marker='.', alpha=0.1)\n",
    "plt.scatter(gt.a[0,0], gt.a[0,1], marker='+')\n",
    "plt.scatter(gt.b[0,0], gt.b[0,1], marker='+')\n"
   ]
  },
  {
   "cell_type": "code",
   "execution_count": null,
   "id": "dcf76405-aae7-40e1-a354-b6bb1239d21d",
   "metadata": {},
   "outputs": [],
   "source": [
    "def true_contours():\n",
    "    data, gt = gen_data(50000)\n",
    "    show_heatmap_contours(data[:,0], data[:,1], bins=30)\n",
    "    plt.scatter(gt.a[0,0], gt.a[0,1], marker='+')\n",
    "    plt.scatter(gt.b[0,0], gt.b[0,1], marker='+')\n",
    "    \n",
    "true_contours()"
   ]
  },
  {
   "cell_type": "code",
   "execution_count": null,
   "id": "d42131f2-47f0-4a09-a754-cfa350b49228",
   "metadata": {},
   "outputs": [],
   "source": [
    "with Model(coords={\"points\": list(range(data.shape[0]))}) as model:\n",
    "    a = MvNormal(\"a\", mu=np.zeros(2)-1, cov=np.eye(2)*100**2)\n",
    "    b = MvNormal(\"b\", mu=np.zeros(2)+1, cov=np.eye(2)*100**2)\n",
    "    z = Beta(\"z\", alpha=1, beta=1, dims=\"points\")\n",
    "    # reshaping in terms of pm dimensions (the last dim is actually the 2D space by itself)\n",
    "    likelihood = MvNormal(\"x\", mu=a + (b-a)*z[...,None], cov=np.eye(2)*1, observed=data)\n",
    "    idata = sample(1000)"
   ]
  },
  {
   "cell_type": "code",
   "execution_count": null,
   "id": "997aae02-3707-4945-b0a5-07b33efd7d7e",
   "metadata": {},
   "outputs": [],
   "source": [
    "idata"
   ]
  },
  {
   "cell_type": "code",
   "execution_count": null,
   "id": "f001f915-e6e9-47e5-becd-99e367246a8c",
   "metadata": {},
   "outputs": [],
   "source": [
    "for rv, shape in model.eval_rv_shapes().items():\n",
    "    print(f\"{rv:>11}: shape={shape}\")\n",
    "pm.model_to_graphviz(model)"
   ]
  },
  {
   "cell_type": "code",
   "execution_count": null,
   "id": "ed320794-9975-43c2-83c1-296b77710815",
   "metadata": {},
   "outputs": [],
   "source": [
    "az.plot_posterior(idata, var_names=[\"a\", \"b\"])"
   ]
  },
  {
   "cell_type": "code",
   "execution_count": null,
   "id": "c4f84c71-fe7a-40f5-a867-d74bae6d91ad",
   "metadata": {},
   "outputs": [],
   "source": [
    "az.plot_trace(idata)"
   ]
  },
  {
   "cell_type": "markdown",
   "id": "2b9ed148-94a4-4d50-b2e3-262fa5bff4f4",
   "metadata": {},
   "source": [
    "### Exploring ADVI (Automatic Differentiation Variational Inference)"
   ]
  },
  {
   "cell_type": "code",
   "execution_count": null,
   "id": "83e27fb8-26a2-4f29-9a4c-7d408dcd4d27",
   "metadata": {},
   "outputs": [],
   "source": [
    "with model:\n",
    "    approx = pm.fit(n=20000, obj_optimizer=pm.adam(learning_rate=0.1))"
   ]
  },
  {
   "cell_type": "code",
   "execution_count": null,
   "id": "93467be8-b088-41d8-93e6-9c1af9a4a272",
   "metadata": {},
   "outputs": [],
   "source": [
    "approx.mean.eval()[:4]"
   ]
  },
  {
   "cell_type": "markdown",
   "id": "77654a22-fdcb-4c57-bf27-a0a2f94dc0d6",
   "metadata": {},
   "source": [
    "### Trying blackjax and numpyro"
   ]
  },
  {
   "cell_type": "code",
   "execution_count": null,
   "id": "c8b0e79c-d08b-41f4-a958-bcc419113846",
   "metadata": {},
   "outputs": [],
   "source": [
    "\n",
    "with model:\n",
    "    idata_blackjax = pm.sampling.jax.sample_blackjax_nuts(1000)"
   ]
  },
  {
   "cell_type": "code",
   "execution_count": null,
   "id": "6b4ecbf0-a5ea-46da-8902-3cf46adcae7e",
   "metadata": {},
   "outputs": [],
   "source": [
    "az.plot_trace(idata_blackjax)"
   ]
  },
  {
   "cell_type": "code",
   "execution_count": null,
   "id": "b01bd7a0-0198-4686-8e2c-b98f870a1b25",
   "metadata": {},
   "outputs": [],
   "source": [
    "with model:\n",
    "    idata_numpyro = pm.sampling.jax.sample_numpyro_nuts(1000)"
   ]
  },
  {
   "cell_type": "code",
   "execution_count": null,
   "id": "ad5c928e-cacd-488d-af6e-edb72f7032e4",
   "metadata": {},
   "outputs": [],
   "source": [
    "az.plot_trace(idata_numpyro, var_names=\"a b\".split(\" \"))"
   ]
  },
  {
   "cell_type": "markdown",
   "id": "9c122bcd-4804-4a05-bd0b-50eaee768e02",
   "metadata": {},
   "source": [
    "# Now with a mixture of noisy segments"
   ]
  },
  {
   "cell_type": "code",
   "execution_count": null,
   "id": "009b9039-797c-4bb0-92b2-1238099a1ba4",
   "metadata": {},
   "outputs": [],
   "source": [
    "\n",
    "SEED = 1412\n",
    "\n",
    "def gen_data(N, p, seed=SEED):\n",
    "    K = len(p)\n",
    "    r = np.random.default_rng(seed)\n",
    "    a = r.normal(0, 30, (K,2))\n",
    "    b = r.normal(0, 30, (K,2))\n",
    "    u = r.uniform(0, 1, (N,1))\n",
    "    z = r.choice(range(K), p=p, size=(N,))\n",
    "    p = a[z,:] + (b-a)[z,:] * u + r.normal(0, 1, (N, 2))\n",
    "    return p, obj_dic(locals())\n",
    "\n",
    "data, gt = gen_data(100, [0.3, 0.7])\n",
    "\n",
    "plt.scatter(data[:,0], data[:,1], marker='.', alpha=0.1)\n",
    "plt.scatter(gt.a[0,0], gt.a[0,1], marker='+')\n",
    "plt.scatter(gt.b[0,0], gt.b[0,1], marker='+')\n",
    "plt.scatter(gt.a[1,0], gt.a[1,1], marker='o')\n",
    "plt.scatter(gt.b[1,0], gt.b[1,1], marker='o')"
   ]
  },
  {
   "cell_type": "code",
   "execution_count": null,
   "id": "e6c97a46-7d20-4e6a-883a-98818b376339",
   "metadata": {},
   "outputs": [],
   "source": [
    "FULL_MANUAL = False\n",
    "K = 10\n",
    "with Model(coords={\"segments\": list(range(K)), \"points\": range(data.shape[0])}) as model:\n",
    "    a = MvNormal(\"a\", mu=np.zeros(2)-1, cov=np.eye(2)*100, dims=\"segments\", shape=(K, 2))\n",
    "    b = MvNormal(\"b\", mu=np.zeros(2)+1, cov=np.eye(2)*100, dims=\"segments\", shape=(K, 2))\n",
    "    π = pm.Dirichlet(\"π\", a=[1]*K)\n",
    "    u = Uniform(\"u\", dims=\"points\")\n",
    "    if FULL_MANUAL:\n",
    "        # To show the fact that we can do it but it won't play nicely with ADVI etc\n",
    "        z = pm.Categorical(\"z\", p=π, dims=\"points\")\n",
    "        # reshaping in terms of pm dimensions (the last dim is actually the 2D space by itself)\n",
    "        likelihood = MvNormal(\"x\", mu=a[z,...] + (b-a)[z,...]*u[...,None], cov=np.eye(2)*1, observed=data)\n",
    "    else:\n",
    "        components = [\n",
    "            MvNormal.dist(mu=a[k,...] + (b-a)[k,...]*u[...,None], cov=np.eye(2)*1)\n",
    "            for k in range(K)\n",
    "        ]\n",
    "        #components = MvNormal.dist(\n",
    "        #    mu=pm.math.stack([a[k,...] + (b-a)[k,...]*u[...,None] for k in range(K)]),\n",
    "        #    cov=np.eye(2)*1, shape=(K,2))\n",
    "        likelihood = pm.Mixture(\"x\", w=π, comp_dists=components, observed=data)    "
   ]
  },
  {
   "cell_type": "code",
   "execution_count": null,
   "id": "e960924e-9c6f-49d0-8f9f-8edcc9ca6887",
   "metadata": {},
   "outputs": [],
   "source": [
    "# SLOW\n",
    "with model:\n",
    "    idata = sample(1000)\n"
   ]
  },
  {
   "cell_type": "code",
   "execution_count": null,
   "id": "246ece76-60de-434e-8306-bb8c4e856dc0",
   "metadata": {},
   "outputs": [],
   "source": [
    "# Fast but might block in sampling or after (for big problems)\n",
    "with model:\n",
    "    idata_blackjax = pm.sampling.jax.sample_blackjax_nuts(10000, chains=4)"
   ]
  },
  {
   "cell_type": "code",
   "execution_count": null,
   "id": "1e0eb659-0ab7-49c5-921e-38e22d447200",
   "metadata": {},
   "outputs": [],
   "source": [
    "# Less fast (but more robust?)\n",
    "with model:\n",
    "    idata_numpyro = pm.sampling.jax.sample_numpyro_nuts(1000, chains=6)"
   ]
  },
  {
   "cell_type": "code",
   "execution_count": null,
   "id": "a8cc4b7c-1673-46c9-b383-fc129cd41815",
   "metadata": {},
   "outputs": [],
   "source": [
    "for rv, shape in model.eval_rv_shapes().items():\n",
    "    print(f\"{rv:>11}: shape={shape}\")\n",
    "    \n",
    "pm.model_to_graphviz(model)"
   ]
  },
  {
   "cell_type": "code",
   "execution_count": null,
   "id": "6f22fb61-208e-4142-bce2-accfbce3be1d",
   "metadata": {},
   "outputs": [],
   "source": [
    "az.plot_posterior(idata_numpyro, var_names=[\"π\", \"a\", \"b\"])"
   ]
  },
  {
   "cell_type": "code",
   "execution_count": null,
   "id": "a0ad5b08-a5e4-412b-acf6-05936ef5d95a",
   "metadata": {},
   "outputs": [],
   "source": [
    "az.plot_trace(idata_numpyro)"
   ]
  },
  {
   "cell_type": "markdown",
   "id": "5b6d78fa-c806-470e-855e-578a6a2f9ad0",
   "metadata": {},
   "source": [
    "# ADVI (Automatic Differentiation Variational Inference)\n",
    "\n",
    "> We will get an error if FULL_MANUAL is True, discrete variables are not differentiable.\n",
    "> We could write the downward likelihood of the mixture as in\n",
    "> https://www.pymc.io/projects/examples/en/latest/variational_inference/gaussian-mixture-model-advi.html?highlight=does%20not%20fit%20advi but it requires some geometric reasoning\n"
   ]
  },
  {
   "cell_type": "code",
   "execution_count": null,
   "id": "f69dd33e-2fcd-44df-a5e5-7c17ab3391fa",
   "metadata": {},
   "outputs": [],
   "source": [
    "with model:\n",
    "    approx = pm.fit(n=7500, obj_optimizer=pm.adam(learning_rate=1e-1))"
   ]
  },
  {
   "cell_type": "code",
   "execution_count": null,
   "id": "e05912be-7c9e-48d0-97d2-4a31dbb7a753",
   "metadata": {},
   "outputs": [],
   "source": [
    "approx.mean.eval().shape, approx.mean.eval()[:14]"
   ]
  },
  {
   "cell_type": "code",
   "execution_count": null,
   "id": "2268ff02-6ed4-4b3e-9e27-c38798ca7cf8",
   "metadata": {},
   "outputs": [],
   "source": [
    "plt.scatter(data[:,0], data[:,1], marker='.', alpha=0.1)\n",
    "m = approx.mean.eval()\n",
    "pi = backward_simplex(m[4*K:5*K-1])\n",
    "for k in range(K):\n",
    "    plt.plot(m[[2*k, 2*K+2*k]], m[[2*k+1, 2*K+2*k+1]], alpha=pi[k]/np.max(pi))\n",
    "plt.show()\n",
    "plt.bar(x=range(K), height=backward_simplex(m[4*K:5*K-1]))"
   ]
  },
  {
   "cell_type": "markdown",
   "id": "28c18845-8f6e-49aa-a424-7dfd87bce5e9",
   "metadata": {},
   "source": [
    "# Circular dataset"
   ]
  },
  {
   "cell_type": "code",
   "execution_count": null,
   "id": "45f5635b-ca2e-47ba-94ea-07e7a3085cd2",
   "metadata": {},
   "outputs": [],
   "source": [
    "\n",
    "SEED = 1412\n",
    "\n",
    "def gen_data_ring(N, seed=SEED):\n",
    "    r = np.random.default_rng(seed)\n",
    "    x = r.normal(0, 1, (N, 2))\n",
    "    x = 20 * x / np.sum(x**2, axis=-1, keepdims=True)**0.5\n",
    "    p = x * r.normal(1, .05, (N, 1))\n",
    "    return p, obj_dic(locals())\n",
    "\n",
    "data, gt = gen_data_ring(300)\n",
    "\n",
    "plt.scatter(data[:,0], data[:,1], marker='.', alpha=0.1)\n"
   ]
  },
  {
   "cell_type": "code",
   "execution_count": null,
   "id": "27f93637-5c67-4002-ad92-b0fb56e34b2b",
   "metadata": {},
   "outputs": [],
   "source": [
    "K = 20\n",
    "with Model(coords={\"segments\": list(range(K)), \"points\": list(range(data.shape[0]))}) as model:\n",
    "    a = MvNormal(\"a\", mu=np.zeros(2)-1, cov=np.eye(2)*40**2, dims=\"segments\", shape=(K, 2))\n",
    "    b = MvNormal(\"b\", mu=np.zeros(2)+1, cov=np.eye(2)*40**2, dims=\"segments\", shape=(K, 2))\n",
    "    π = pm.Dirichlet(\"π\", a=[1]*K)\n",
    "    u = Uniform(\"u\", dims=\"points\")\n",
    "    components = [\n",
    "        MvNormal.dist(mu=a[k,...] + (b-a)[k,...]*u[...,None], cov=np.eye(2)*1)\n",
    "        for k in range(K)\n",
    "    ]\n",
    "    likelihood = pm.Mixture(\"x\", w=π, comp_dists=components, observed=data)"
   ]
  },
  {
   "cell_type": "code",
   "execution_count": null,
   "id": "5d42aaa9-1a03-4a21-829d-2385a5cfa090",
   "metadata": {},
   "outputs": [],
   "source": [
    "with model:\n",
    "    approx = pm.fit(n=10000, obj_optimizer=pm.adam(learning_rate=1e-1))\n"
   ]
  },
  {
   "cell_type": "code",
   "execution_count": null,
   "id": "0e0d3c4e-58d3-4ac8-a71a-392730fe736d",
   "metadata": {},
   "outputs": [],
   "source": [
    "pi = backward_simplex(approx.mean.eval()[4*K:5*K-1])\n",
    "approx.mean.eval().shape, approx.mean.eval()[:4*K], pi"
   ]
  },
  {
   "cell_type": "code",
   "execution_count": null,
   "id": "e3f5ecf1-cf46-4ab2-816c-bfd3a96ed34e",
   "metadata": {},
   "outputs": [],
   "source": [
    "plt.scatter(data[:,0], data[:,1], marker='.', alpha=0.1)\n",
    "m = approx.mean.eval()\n",
    "pi = backward_simplex(m[4*K:5*K-1])\n",
    "for k in range(K):\n",
    "    plt.plot(m[[2*k, 2*K+2*k]], m[[2*k+1, 2*K+2*k+1]], alpha=pi[k]/np.max(pi))\n",
    "plt.show()\n",
    "plt.bar(x=range(K), height=backward_simplex(m[4*K:5*K-1]))"
   ]
  },
  {
   "cell_type": "code",
   "execution_count": null,
   "id": "4cfcdbab-080d-424b-907c-54136a6ce0f9",
   "metadata": {},
   "outputs": [],
   "source": []
  }
 ],
 "metadata": {
  "kernelspec": {
   "display_name": "Python 3 (ipykernel)",
   "language": "python",
   "name": "python3"
  },
  "language_info": {
   "codemirror_mode": {
    "name": "ipython",
    "version": 3
   },
   "file_extension": ".py",
   "mimetype": "text/x-python",
   "name": "python",
   "nbconvert_exporter": "python",
   "pygments_lexer": "ipython3",
   "version": "3.10.6"
  }
 },
 "nbformat": 4,
 "nbformat_minor": 5
}
